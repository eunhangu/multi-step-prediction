{
  "nbformat": 4,
  "nbformat_minor": 0,
  "metadata": {
    "colab": {
      "name": "single_step_prediction_revised.ipynb",
      "provenance": []
    },
    "kernelspec": {
      "name": "python3",
      "display_name": "Python 3"
    },
    "language_info": {
      "name": "python"
    },
    "accelerator": "GPU",
    "gpuClass": "standard"
  },
  "cells": [
    {
      "cell_type": "code",
      "execution_count": 2,
      "metadata": {
        "id": "Un9vW0JTJz8U"
      },
      "outputs": [],
      "source": [
        "import math\n",
        "import numpy as np\n",
        "import matplotlib.pyplot as plt\n",
        "\n",
        "import torch\n",
        "from torch import nn\n",
        "from torch.utils.data import Dataset, DataLoader"
      ]
    },
    {
      "cell_type": "code",
      "source": [
        "device = torch.device(\"cuda\" if torch.cuda.is_available() else \"cpu\")"
      ],
      "metadata": {
        "id": "PIqn1PvmJ2Lx"
      },
      "execution_count": 3,
      "outputs": []
    },
    {
      "cell_type": "code",
      "source": [
        "class TimeSeriesDataset(Dataset):\n",
        "  def __init__(self, data, depth, step):\n",
        "    super(TimeSeriesDataset, self).__init__()\n",
        "    \n",
        "    self.data = np.genfromtxt(data, delimiter=\"\")\n",
        "\n",
        "    dmax = np.amax(self.data, axis=0)\n",
        "    dmin = np.amin(self.data, axis=0)\n",
        "\n",
        "    self.data = (self.data - dmin) / (dmax - dmin)\n",
        "\n",
        "    self.dmax = dmax[-1]\n",
        "    self.dmin = dmin[-1]\n",
        "\n",
        "    self.x = []\n",
        "    self.y = []\n",
        "\n",
        "    for i in range(depth, len(self.data)-step+1):\n",
        "      self.x.append(self.data[i-depth:i,:])\n",
        "      self.y.append(self.data[i:i+step,-1])\n",
        "    \n",
        "    self.x = torch.tensor(np.array(self.x)).float().to(device)\n",
        "    self.y = torch.tensor(np.array(self.y)).float().to(device)\n",
        "\n",
        "  def __getitem__(self, idx):\n",
        "    return self.x[idx], self.y[idx]\n",
        "\n",
        "  def __len__(self):\n",
        "    return len(self.x)"
      ],
      "metadata": {
        "id": "9kqRYfdVJ4LF"
      },
      "execution_count": 4,
      "outputs": []
    },
    {
      "cell_type": "code",
      "source": [
        "train_1 = TimeSeriesDataset(\"./train1.txt\", depth=13, step=1)\n",
        "train_2 = TimeSeriesDataset(\"./train2.txt\", depth=13, step=1)\n",
        "\n",
        "dataloader_1 = DataLoader(train_1, batch_size=32)\n",
        "dataloader_2 = DataLoader(train_2, batch_size=32)"
      ],
      "metadata": {
        "id": "LSEWc3efJ-iz"
      },
      "execution_count": 5,
      "outputs": []
    },
    {
      "cell_type": "code",
      "source": [
        "class CustomLSTM(nn.Module):\n",
        "  def __init__(self, input_size, hidden_size):\n",
        "    super(CustomLSTM, self).__init__()\n",
        "\n",
        "    # input size, hidden size\n",
        "    self.input_size = input_size\n",
        "    self.hidden_size = hidden_size\n",
        "\n",
        "    # gate size\n",
        "    gate_size = 4 * hidden_size\n",
        "\n",
        "    # weight\n",
        "    self.w_ih = nn.Parameter(torch.Tensor(self.input_size, gate_size))\n",
        "    self.w_hh = nn.Parameter(torch.Tensor(self.hidden_size, gate_size))\n",
        "    \n",
        "    # bias\n",
        "    self.b = nn.Parameter(torch.Tensor(gate_size))\n",
        "\n",
        "    # weight initialization\n",
        "    stdv = 1.0 / math.sqrt(self.hidden_size)\n",
        "    for w in self.parameters():\n",
        "      w.data.uniform_(-stdv, stdv)\n",
        "\n",
        "  def forward(self, x):\n",
        "    # B : batch size, L : sequence length(depth)\n",
        "    B, L = x.size(0), x.size(1)\n",
        "\n",
        "    output = []\n",
        "\n",
        "    # initial values\n",
        "    ht = torch.zeros(B, self.hidden_size).to(device)\n",
        "    ct = torch.zeros(B, self.hidden_size).to(device)\n",
        "\n",
        "    for t in range(L):\n",
        "      xt = x[:,t,:]\n",
        "      gates = xt @ self.w_ih + ht @ self.w_hh + self.b\n",
        "\n",
        "      it = torch.sigmoid(gates[:,:self.hidden_size])\n",
        "      ft = torch.sigmoid(gates[:,self.hidden_size:2*self.hidden_size])\n",
        "      gt = torch.tanh(gates[:,2*self.hidden_size:3*self.hidden_size])\n",
        "      ot = torch.sigmoid(gates[:,3*self.hidden_size:])\n",
        "\n",
        "      ct = ft * ct + it + gt\n",
        "      ht = ot * torch.tanh(ct)\n",
        "\n",
        "      output.append(ht.unsqueeze(1))\n",
        "\n",
        "    output = torch.cat(output, dim=1)\n",
        "    return output, (ht, ct)"
      ],
      "metadata": {
        "id": "1BJuv9p0KElU"
      },
      "execution_count": 6,
      "outputs": []
    },
    {
      "cell_type": "code",
      "source": [
        "class SingleStepPrediction(nn.Module):\n",
        "  def __init__(self, input_size, hidden_size):\n",
        "    super(SingleStepPrediction, self).__init__()\n",
        "\n",
        "    self.lstm = CustomLSTM(input_size, hidden_size)\n",
        "    self.fc = nn.Linear(hidden_size, 1)\n",
        "\n",
        "  def forward(self, x):\n",
        "    out, (ht, ct) = self.lstm(x) # B x h\n",
        "    output = self.fc(ht) # B x 1\n",
        "    return output"
      ],
      "metadata": {
        "id": "dINZCD8AKHK1"
      },
      "execution_count": 7,
      "outputs": []
    },
    {
      "cell_type": "code",
      "source": [
        "model = SingleStepPrediction(input_size=9, hidden_size=8).to(device)\n",
        "\n",
        "criterion = torch.nn.MSELoss()\n",
        "optimizer = torch.optim.Adam(model.parameters(), lr=1e-3)"
      ],
      "metadata": {
        "id": "1rj39ityKTCJ"
      },
      "execution_count": 8,
      "outputs": []
    },
    {
      "cell_type": "code",
      "source": [
        "for epoch in range(100):\n",
        "  for i, data in enumerate(dataloader_1):\n",
        "    inputs, labels = data\n",
        "    optimizer.zero_grad()\n",
        "    outputs = model(inputs)\n",
        "    loss = criterion(outputs, labels)\n",
        "    loss.backward()\n",
        "    optimizer.step()\n",
        "\n",
        "  for i, data in enumerate(dataloader_2):\n",
        "    inputs, labels = data\n",
        "    optimizer.zero_grad()\n",
        "    outputs = model(inputs)\n",
        "    loss = criterion(outputs, labels)\n",
        "    loss.backward()\n",
        "    optimizer.step()"
      ],
      "metadata": {
        "id": "XOEl6JiqKXl_"
      },
      "execution_count": 9,
      "outputs": []
    },
    {
      "cell_type": "code",
      "source": [
        "test = TimeSeriesDataset(\"./test.txt\", depth=13, step=1)"
      ],
      "metadata": {
        "id": "k9szYBoUKlC3"
      },
      "execution_count": 10,
      "outputs": []
    },
    {
      "cell_type": "code",
      "source": [
        "label = []\n",
        "output = []\n",
        "\n",
        "for i in range(len(test)):\n",
        "  x, y = test.__getitem__(i)\n",
        "  x = x.unsqueeze(0)\n",
        "  out = model(x)\n",
        "  \n",
        "  y = y * (test.dmax - test.dmin) + test.dmin\n",
        "  y = y.cpu().detach().numpy()\n",
        "  label.append(y)\n",
        "\n",
        "  out = out.squeeze(1)\n",
        "  out = out * (test.dmax - test.dmin) + test.dmin\n",
        "  out = out.cpu().detach().numpy()\n",
        "  output.append(out)\n",
        "\n",
        "fig = plt.figure(figsize=(10, 4))\n",
        "plt.plot(output, label=\"output\")\n",
        "plt.plot(label, label=\"label\")\n",
        "plt.legend()\n",
        "plt.show()\n",
        "\n",
        "label = np.array(label)\n",
        "output = np.array(output)\n",
        "\n",
        "print(f\"RMSE : {np.sqrt(np.mean((label - output)**2))}\")"
      ],
      "metadata": {
        "colab": {
          "base_uri": "https://localhost:8080/",
          "height": 282
        },
        "id": "TLHeO78mKtHS",
        "outputId": "6a1ffa56-f850-447e-c87b-afbb187c3504"
      },
      "execution_count": 11,
      "outputs": [
        {
          "output_type": "display_data",
          "data": {
            "text/plain": [
              "<Figure size 720x288 with 1 Axes>"
            ],
            "image/png": "[encoded data removed]"
          },
          "metadata": {
            "needs_background": "light"
          }
        },
        {
          "output_type": "stream",
          "name": "stdout",
          "text": [
            "RMSE : 0.18251356482505798\n"
          ]
        }
      ]
    },
    {
      "cell_type": "code",
      "source": [
        "def performance_test():\n",
        "  RMSE = []\n",
        "\n",
        "  for t in range(100):\n",
        "    model = SingleStepPrediction(input_size=9, hidden_size=8).to(device)\n",
        "\n",
        "    criterion = torch.nn.MSELoss()\n",
        "    optimizer = torch.optim.Adam(model.parameters(), lr=1e-3)\n",
        "\n",
        "    for epoch in range(10):\n",
        "      for i, data in enumerate(dataloader_1):\n",
        "        inputs, labels = data\n",
        "        optimizer.zero_grad()\n",
        "        outputs = model(inputs)\n",
        "        loss = criterion(outputs, labels)\n",
        "        loss.backward()\n",
        "        optimizer.step()\n",
        "\n",
        "      for i, data in enumerate(dataloader_2):\n",
        "        inputs, labels = data\n",
        "        optimizer.zero_grad()\n",
        "        outputs = model(inputs)\n",
        "        loss = criterion(outputs, labels)\n",
        "        loss.backward()\n",
        "        optimizer.step()\n",
        "    \n",
        "    label = []\n",
        "    output = []\n",
        "\n",
        "    for i in range(len(test)):\n",
        "      x, y = test.__getitem__(i)\n",
        "      x = x.unsqueeze(0)\n",
        "      out = model(x)\n",
        "  \n",
        "      y = y * (test.dmax - test.dmin) + test.dmin\n",
        "      y = y.cpu().detach().numpy()\n",
        "      label.append(y)\n",
        "\n",
        "      out = out.squeeze(1)\n",
        "      out = out * (test.dmax - test.dmin) + test.dmin\n",
        "      out = out.cpu().detach().numpy()\n",
        "      output.append(out)\n",
        "    \n",
        "    label = np.array(label)\n",
        "    output = np.array(output)\n",
        "    \n",
        "    RMSE.append(np.sqrt(np.mean((label - output)**2)))\n",
        "  \n",
        "  rmse = sum(RMSE) / 100\n",
        "  return rmse"
      ],
      "metadata": {
        "id": "mPrRpljhTc5g"
      },
      "execution_count": 19,
      "outputs": []
    },
    {
      "cell_type": "code",
      "source": [
        "print(f\"RMSE : {performance_test()}\")"
      ],
      "metadata": {
        "colab": {
          "base_uri": "https://localhost:8080/"
        },
        "id": "7PO1RfcAUzYd",
        "outputId": "7dbf0226-cbf4-4a37-af56-206b4381c5ff"
      },
      "execution_count": 20,
      "outputs": [
        {
          "output_type": "stream",
          "name": "stdout",
          "text": [
            "RMSE : 0.3192582373321056\n"
          ]
        }
      ]
    }
  ]
}